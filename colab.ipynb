{
 "cells": [
  {
   "cell_type": "markdown",
   "metadata": {},
   "source": [
    "# Examen PrÃ¡ctico "
   ]
  },
  {
   "cell_type": "markdown",
   "metadata": {},
   "source": [
    "#### 01-3900 | Ciencia de datos | 2024"
   ]
  },
  {
   "cell_type": "markdown",
   "metadata": {},
   "source": [
    "Alumno: Facundo Nicolas Carballo"
   ]
  },
  {
   "cell_type": "markdown",
   "metadata": {},
   "source": [
    "## Enunciado"
   ]
  },
  {
   "cell_type": "markdown",
   "metadata": {},
   "source": [
    "Se tienen un dataset con datos de pacientes internados en un hospital (TP_Virus_Alumnos.csv). La clase de interes (1) refiere a la presencia de un virus. El virus tiene normalmente una gravedad leve/baja y el tratamiento suele ser invasivo. Datos como nombre y apellido han sido eliminados y los valores tanto en sangre (BLD), hormonales u otros analisis sobre reactivos han sido alterados en sus valores para preservar la privacidad. Se aclara que no se ha modificado su capacidad predictiva (Si es que la tienen).\n"
   ]
  },
  {
   "cell_type": "markdown",
   "metadata": {},
   "source": [
    "Para su conocimiento: </BR>\n",
    "Datos generales de Edad, Peso, Altura y condicion laboral (Activo, Pasivo etc).\n",
    "Datos medidos en hospital:</BR>\n",
    "BLD: Sangre</BR>\n",
    "LVL: Hormonales</BR>\n",
    "REC: Otros anÃ¡lisis</BR>\n",
    "\n",
    "Se pide obtener con los datos disponibles el mejor modelo posible que prediga la presencia o ausencia del virus. \n",
    "Dado que el tratamiento es invasivo y la grevedad es moderada se requiere \"atrapar\" tantos \"1\" como sea posible y minimizar los falsos positivos para evitar que reciban un tratamiento de estas caracteristicas personas que no presentan el virus. Intente obtener el mejor modelo que maximice la metrica que considere correspondiente.\n",
    "\n"
   ]
  },
  {
   "cell_type": "markdown",
   "metadata": {},
   "source": [
    "## Como desarrollar el examen"
   ]
  },
  {
   "cell_type": "markdown",
   "metadata": {},
   "source": [
    "A partir del dataset realice todas las acciones para poder llegar al mejor modelo, explique brevemente en los fundamentos de sus transformaciones o acciones en general. "
   ]
  },
  {
   "cell_type": "markdown",
   "metadata": {},
   "source": [
    "La nota derivara de: </BR>\n",
    "1.La calidad de la clasificaciÃ³n realizada</BR>\n",
    "2.La fundamentacion de los pasos realizados</BR>\n",
    "3.Lo sencillo de llevar a produccion el desarrollo</BR> \n",
    "\n"
   ]
  },
  {
   "cell_type": "markdown",
   "metadata": {},
   "source": [
    "Los docentes evaluaran su clasificador utilizando un conjunto de datos del dataset \"fuera de la caja\" (out of the box, al que usted no tiene acceso). Para minimizar la posible diferencia entre su medicion y la medicion del docente recuerde y aplique conceptos de test, validacion cruzada y evite los errores comunes de sesgo de seleccion y fuga de datos (PPT/Pdf arboles de clasificacion) o  Sklearn \"10. Common pitfalls and recommended practices\" disponible en \"https://scikit-learn.org/stable/common_pitfalls.html\"   "
   ]
  },
  {
   "cell_type": "markdown",
   "metadata": {},
   "source": [
    "Al final del notebook encontrara un bloque de codigo que lee la muestra adicional (a la que usted no tiene acceso) si PRODUCCION==True, en caso contrario solo lee una submuestra del conjunto original para validar que el codigo funciona. Desarrolle el notebook como considere, para finalmente asignar el mejor clasificador que usted haya obtenido remplazando en f_clf = None, None por su clasificador. Implemente todas las transformaciones entre esa linea y la predicion final (Evitando al fuga de datos). Ver TP_AutomatizarTransformaciones.ipynb"
   ]
  },
  {
   "cell_type": "markdown",
   "metadata": {},
   "source": [
    "En materiales del MIEL se adjunta un notebook que propone algunas ideas para automatizar el proceso."
   ]
  },
  {
   "cell_type": "markdown",
   "metadata": {},
   "source": [
    "## Evaluacion final - Docente + Alumno"
   ]
  },
  {
   "cell_type": "code",
   "execution_count": null,
   "metadata": {},
   "outputs": [],
   "source": [
    "import pandas as pd\n",
    "from sklearn.metrics import classification_report\n",
    "from sklearn.model_selection import train_test_split\n",
    "\n",
    "PRODUCCION = False\n",
    "best_clf = None #Asignar aqui el mejor clasificador posible (previamente entrenado)\n",
    "\n",
    "#Leemos el dataset de evaluaciÃ³n, simulando producciÃ³n\n",
    "if PRODUCCION==False:\n",
    "    df = pd.read_csv(\"TP_Virus_Alumnos.csv\")\n",
    "    _, df = train_test_split(df, test_size=0.3, random_state=42)\n",
    "else:\n",
    "    df = pd.read_csv(\"TP_Virus_Evaluacion.csv\")\n",
    "#Dividimos en target y predictoras\n",
    "\n",
    "X_prod = df.drop(\"target\", axis=1)\n",
    "y_prod = df[\"target\"]\n",
    "\n",
    "#Transformaciones\n",
    "\n",
    "\n",
    "#EvaluaciÃ³n final\n",
    "y_pred = best_clf.predict(X_prod)\n",
    "print(classification_report(y_prod, y_pred))"
   ]
  }
 ],
 "metadata": {
  "kernelspec": {
   "display_name": "Python 3",
   "language": "python",
   "name": "python3"
  },
  "language_info": {
   "codemirror_mode": {
    "name": "ipython",
    "version": 3
   },
   "file_extension": ".py",
   "mimetype": "text/x-python",
   "name": "python",
   "nbconvert_exporter": "python",
   "pygments_lexer": "ipython3",
   "version": "3.10.1"
  }
 },
 "nbformat": 4,
 "nbformat_minor": 2
}
