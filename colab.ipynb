{
 "cells": [
  {
   "cell_type": "markdown",
   "metadata": {},
   "source": [
    "# Examen Practico "
   ]
  },
  {
   "cell_type": "markdown",
   "metadata": {},
   "source": [
    "#### 01-3900 | Ciencia de datos | 2024"
   ]
  },
  {
   "cell_type": "markdown",
   "metadata": {},
   "source": [
    "Alumno: Facundo Nicolas Carballo"
   ]
  },
  {
   "cell_type": "markdown",
   "metadata": {},
   "source": [
    "## Enunciado"
   ]
  },
  {
   "cell_type": "markdown",
   "metadata": {},
   "source": [
    "Se tienen un dataset con datos de pacientes internados en un hospital (TP_Virus_Alumnos.csv). La clase de interes (1) refiere a la presencia de un virus. El virus tiene normalmente una gravedad leve/baja y el tratamiento suele ser invasivo. Datos como nombre y apellido han sido eliminados y los valores tanto en sangre (BLD), hormonales u otros analisis sobre reactivos han sido alterados en sus valores para preservar la privacidad. Se aclara que no se ha modificado su capacidad predictiva (Si es que la tienen).\n"
   ]
  },
  {
   "cell_type": "markdown",
   "metadata": {},
   "source": [
    "Para su conocimiento: </BR>\n",
    "Datos generales de Edad, Peso, Altura y condicion laboral (Activo, Pasivo etc).\n",
    "\n",
    "Datos medidos en hospital:</BR>\n",
    "BLD: Sangre</BR>\n",
    "LVL: Hormonales</BR>\n",
    "REC: Otros analisis</BR>\n",
    "\n",
    "Se pide obtener con los datos disponibles el mejor modelo posible que prediga la presencia o ausencia del virus. \n",
    "Dado que el tratamiento es invasivo y la grevedad es moderada se requiere \"atrapar\" tantos \"1\" como sea posible y minimizar los falsos positivos para evitar que reciban un tratamiento de estas caracteristicas personas que no presentan el virus. Intente obtener el mejor modelo que maximice la metrica que considere correspondiente.\n",
    "\n"
   ]
  },
  {
   "cell_type": "markdown",
   "metadata": {},
   "source": [
    "## Como desarrollar el examen"
   ]
  },
  {
   "cell_type": "markdown",
   "metadata": {},
   "source": [
    "A partir del dataset realice todas las acciones para poder llegar al mejor modelo, explique brevemente en los fundamentos de sus transformaciones o acciones en general. "
   ]
  },
  {
   "cell_type": "markdown",
   "metadata": {},
   "source": [
    "La nota derivara de: </BR>\n",
    "1.La calidad de la clasificacion realizada</BR>\n",
    "2.La fundamentacion de los pasos realizados</BR>\n",
    "3.Lo sencillo de llevar a produccion el desarrollo</BR> \n",
    "\n"
   ]
  },
  {
   "cell_type": "markdown",
   "metadata": {},
   "source": [
    "Los docentes evaluaran su clasificador utilizando un conjunto de datos del dataset \"fuera de la caja\" (out of the box, al que usted no tiene acceso). Para minimizar la posible diferencia entre su medicion y la medicion del docente recuerde y aplique conceptos de test, validacion cruzada y evite los errores comunes de sesgo de seleccion y fuga de datos (PPT/Pdf arboles de clasificacion) o  Sklearn \"10. Common pitfalls and recommended practices\" disponible en \"https://scikit-learn.org/stable/common_pitfalls.html\"   "
   ]
  },
  {
   "cell_type": "markdown",
   "metadata": {},
   "source": [
    "Al final del notebook encontrara un bloque de codigo que lee la muestra adicional (a la que usted no tiene acceso) si PRODUCCION==True, en caso contrario solo lee una submuestra del conjunto original para validar que el codigo funciona. Desarrolle el notebook como considere, para finalmente asignar el mejor clasificador que usted haya obtenido remplazando en f_clf = None, None por su clasificador. Implemente todas las transformaciones entre esa linea y la predicion final (Evitando al fuga de datos). Ver TP_AutomatizarTransformaciones.ipynb"
   ]
  },
  {
   "cell_type": "markdown",
   "metadata": {},
   "source": [
    "En materiales del MIEL se adjunta un notebook que propone algunas ideas para automatizar el proceso."
   ]
  },
  {
   "cell_type": "markdown",
   "metadata": {},
   "source": [
    "# Desarrollo"
   ]
  },
  {
   "cell_type": "markdown",
   "metadata": {},
   "source": [
    "## Dataset"
   ]
  },
  {
   "cell_type": "markdown",
   "metadata": {},
   "source": [
    "#### Cargamos el dataset"
   ]
  },
  {
   "cell_type": "code",
   "execution_count": 6,
   "metadata": {},
   "outputs": [
    {
     "data": {
      "text/html": [
       "<div>\n",
       "<style scoped>\n",
       "    .dataframe tbody tr th:only-of-type {\n",
       "        vertical-align: middle;\n",
       "    }\n",
       "\n",
       "    .dataframe tbody tr th {\n",
       "        vertical-align: top;\n",
       "    }\n",
       "\n",
       "    .dataframe thead th {\n",
       "        text-align: right;\n",
       "    }\n",
       "</style>\n",
       "<table border=\"1\" class=\"dataframe\">\n",
       "  <thead>\n",
       "    <tr style=\"text-align: right;\">\n",
       "      <th></th>\n",
       "      <th>Edad</th>\n",
       "      <th>Genero</th>\n",
       "      <th>Peso</th>\n",
       "      <th>Laboral</th>\n",
       "      <th>hijos</th>\n",
       "      <th>BLD01</th>\n",
       "      <th>REC1</th>\n",
       "      <th>REC2</th>\n",
       "      <th>REC3</th>\n",
       "      <th>REC4</th>\n",
       "      <th>REC5</th>\n",
       "      <th>BLD02</th>\n",
       "      <th>BLD03</th>\n",
       "      <th>LVL</th>\n",
       "      <th>target</th>\n",
       "    </tr>\n",
       "  </thead>\n",
       "  <tbody>\n",
       "    <tr>\n",
       "      <th>0</th>\n",
       "      <td>9.0</td>\n",
       "      <td>Femenino</td>\n",
       "      <td>36.410602</td>\n",
       "      <td>Inactivo</td>\n",
       "      <td>0</td>\n",
       "      <td>3.139714</td>\n",
       "      <td>6.929112</td>\n",
       "      <td>63.712640</td>\n",
       "      <td>73.880613</td>\n",
       "      <td>15.087239</td>\n",
       "      <td>90.400193</td>\n",
       "      <td>2.015331</td>\n",
       "      <td>1.633836</td>\n",
       "      <td>51.411632</td>\n",
       "      <td>0</td>\n",
       "    </tr>\n",
       "    <tr>\n",
       "      <th>1</th>\n",
       "      <td>58.0</td>\n",
       "      <td>Masculino</td>\n",
       "      <td>115.507184</td>\n",
       "      <td>Inactivo</td>\n",
       "      <td>4</td>\n",
       "      <td>2.953914</td>\n",
       "      <td>4.660136</td>\n",
       "      <td>64.582610</td>\n",
       "      <td>73.669319</td>\n",
       "      <td>14.503106</td>\n",
       "      <td>90.817947</td>\n",
       "      <td>0.973317</td>\n",
       "      <td>-0.439358</td>\n",
       "      <td>1000000.000000</td>\n",
       "      <td>0</td>\n",
       "    </tr>\n",
       "    <tr>\n",
       "      <th>2</th>\n",
       "      <td>74.0</td>\n",
       "      <td>Masculino</td>\n",
       "      <td>81.249035</td>\n",
       "      <td>Activo</td>\n",
       "      <td>3</td>\n",
       "      <td>1.365200</td>\n",
       "      <td>3.005861</td>\n",
       "      <td>63.613454</td>\n",
       "      <td>75.103984</td>\n",
       "      <td>14.077988</td>\n",
       "      <td>91.741638</td>\n",
       "      <td>3.243344</td>\n",
       "      <td>0.380413</td>\n",
       "      <td>1000000.000000</td>\n",
       "      <td>1</td>\n",
       "    </tr>\n",
       "    <tr>\n",
       "      <th>3</th>\n",
       "      <td>NaN</td>\n",
       "      <td>Masculino</td>\n",
       "      <td>77.985589</td>\n",
       "      <td>No_declara</td>\n",
       "      <td>0</td>\n",
       "      <td>2.329285</td>\n",
       "      <td>4.344642</td>\n",
       "      <td>64.433115</td>\n",
       "      <td>73.402436</td>\n",
       "      <td>15.583846</td>\n",
       "      <td>91.741709</td>\n",
       "      <td>3.188290</td>\n",
       "      <td>-0.226046</td>\n",
       "      <td>NaN</td>\n",
       "      <td>0</td>\n",
       "    </tr>\n",
       "    <tr>\n",
       "      <th>4</th>\n",
       "      <td>1.0</td>\n",
       "      <td>Femenino</td>\n",
       "      <td>13.446208</td>\n",
       "      <td>Inactivo</td>\n",
       "      <td>0</td>\n",
       "      <td>-0.062975</td>\n",
       "      <td>3.938741</td>\n",
       "      <td>65.122602</td>\n",
       "      <td>75.007982</td>\n",
       "      <td>16.961593</td>\n",
       "      <td>90.668625</td>\n",
       "      <td>2.729202</td>\n",
       "      <td>0.589698</td>\n",
       "      <td>21.627303</td>\n",
       "      <td>1</td>\n",
       "    </tr>\n",
       "  </tbody>\n",
       "</table>\n",
       "</div>"
      ],
      "text/plain": [
       "   Edad     Genero        Peso     Laboral  hijos     BLD01      REC1  \\\n",
       "0   9.0   Femenino   36.410602    Inactivo      0  3.139714  6.929112   \n",
       "1  58.0  Masculino  115.507184    Inactivo      4  2.953914  4.660136   \n",
       "2  74.0  Masculino   81.249035      Activo      3  1.365200  3.005861   \n",
       "3   NaN  Masculino   77.985589  No_declara      0  2.329285  4.344642   \n",
       "4   1.0   Femenino   13.446208    Inactivo      0 -0.062975  3.938741   \n",
       "\n",
       "        REC2       REC3       REC4       REC5     BLD02     BLD03  \\\n",
       "0  63.712640  73.880613  15.087239  90.400193  2.015331  1.633836   \n",
       "1  64.582610  73.669319  14.503106  90.817947  0.973317 -0.439358   \n",
       "2  63.613454  75.103984  14.077988  91.741638  3.243344  0.380413   \n",
       "3  64.433115  73.402436  15.583846  91.741709  3.188290 -0.226046   \n",
       "4  65.122602  75.007982  16.961593  90.668625  2.729202  0.589698   \n",
       "\n",
       "              LVL  target  \n",
       "0       51.411632       0  \n",
       "1  1000000.000000       0  \n",
       "2  1000000.000000       1  \n",
       "3             NaN       0  \n",
       "4       21.627303       1  "
      ]
     },
     "execution_count": 6,
     "metadata": {},
     "output_type": "execute_result"
    }
   ],
   "source": [
    "import pandas as pd\n",
    "df = pd.read_csv(\"./dataset.csv\")\n",
    "df.head()"
   ]
  },
  {
   "cell_type": "markdown",
   "metadata": {},
   "source": [
    "#### Chequeamos los nulos del dataset"
   ]
  },
  {
   "cell_type": "code",
   "execution_count": 7,
   "metadata": {},
   "outputs": [
    {
     "data": {
      "text/plain": [
       "Edad        822\n",
       "Genero     1682\n",
       "Peso          0\n",
       "Laboral       0\n",
       "hijos         0\n",
       "BLD01         0\n",
       "REC1          0\n",
       "REC2          0\n",
       "REC3          0\n",
       "REC4          0\n",
       "REC5          0\n",
       "BLD02         0\n",
       "BLD03         0\n",
       "LVL         527\n",
       "target        0\n",
       "dtype: int64"
      ]
     },
     "execution_count": 7,
     "metadata": {},
     "output_type": "execute_result"
    }
   ],
   "source": [
    "df.isnull().sum()"
   ]
  },
  {
   "cell_type": "markdown",
   "metadata": {},
   "source": [
    "#### Eliminamos columnas con nulos"
   ]
  },
  {
   "cell_type": "code",
   "execution_count": 11,
   "metadata": {},
   "outputs": [],
   "source": [
    "# No me gusta que den warings..\n",
    "df.drop('Edad', axis=1, inplace=True)\n",
    "df.drop('Genero', axis=1, inplace=True)\n",
    "df.drop('LVL', axis=1, inplace=True)"
   ]
  },
  {
   "cell_type": "code",
   "execution_count": 12,
   "metadata": {},
   "outputs": [
    {
     "data": {
      "text/html": [
       "<div>\n",
       "<style scoped>\n",
       "    .dataframe tbody tr th:only-of-type {\n",
       "        vertical-align: middle;\n",
       "    }\n",
       "\n",
       "    .dataframe tbody tr th {\n",
       "        vertical-align: top;\n",
       "    }\n",
       "\n",
       "    .dataframe thead th {\n",
       "        text-align: right;\n",
       "    }\n",
       "</style>\n",
       "<table border=\"1\" class=\"dataframe\">\n",
       "  <thead>\n",
       "    <tr style=\"text-align: right;\">\n",
       "      <th></th>\n",
       "      <th>Peso</th>\n",
       "      <th>Laboral</th>\n",
       "      <th>hijos</th>\n",
       "      <th>BLD01</th>\n",
       "      <th>REC1</th>\n",
       "      <th>REC2</th>\n",
       "      <th>REC3</th>\n",
       "      <th>REC4</th>\n",
       "      <th>REC5</th>\n",
       "      <th>BLD02</th>\n",
       "      <th>BLD03</th>\n",
       "      <th>target</th>\n",
       "    </tr>\n",
       "  </thead>\n",
       "  <tbody>\n",
       "    <tr>\n",
       "      <th>0</th>\n",
       "      <td>36.410602</td>\n",
       "      <td>Inactivo</td>\n",
       "      <td>0</td>\n",
       "      <td>3.139714</td>\n",
       "      <td>6.929112</td>\n",
       "      <td>63.712640</td>\n",
       "      <td>73.880613</td>\n",
       "      <td>15.087239</td>\n",
       "      <td>90.400193</td>\n",
       "      <td>2.015331</td>\n",
       "      <td>1.633836</td>\n",
       "      <td>0</td>\n",
       "    </tr>\n",
       "    <tr>\n",
       "      <th>1</th>\n",
       "      <td>115.507184</td>\n",
       "      <td>Inactivo</td>\n",
       "      <td>4</td>\n",
       "      <td>2.953914</td>\n",
       "      <td>4.660136</td>\n",
       "      <td>64.582610</td>\n",
       "      <td>73.669319</td>\n",
       "      <td>14.503106</td>\n",
       "      <td>90.817947</td>\n",
       "      <td>0.973317</td>\n",
       "      <td>-0.439358</td>\n",
       "      <td>0</td>\n",
       "    </tr>\n",
       "    <tr>\n",
       "      <th>2</th>\n",
       "      <td>81.249035</td>\n",
       "      <td>Activo</td>\n",
       "      <td>3</td>\n",
       "      <td>1.365200</td>\n",
       "      <td>3.005861</td>\n",
       "      <td>63.613454</td>\n",
       "      <td>75.103984</td>\n",
       "      <td>14.077988</td>\n",
       "      <td>91.741638</td>\n",
       "      <td>3.243344</td>\n",
       "      <td>0.380413</td>\n",
       "      <td>1</td>\n",
       "    </tr>\n",
       "    <tr>\n",
       "      <th>3</th>\n",
       "      <td>77.985589</td>\n",
       "      <td>No_declara</td>\n",
       "      <td>0</td>\n",
       "      <td>2.329285</td>\n",
       "      <td>4.344642</td>\n",
       "      <td>64.433115</td>\n",
       "      <td>73.402436</td>\n",
       "      <td>15.583846</td>\n",
       "      <td>91.741709</td>\n",
       "      <td>3.188290</td>\n",
       "      <td>-0.226046</td>\n",
       "      <td>0</td>\n",
       "    </tr>\n",
       "    <tr>\n",
       "      <th>4</th>\n",
       "      <td>13.446208</td>\n",
       "      <td>Inactivo</td>\n",
       "      <td>0</td>\n",
       "      <td>-0.062975</td>\n",
       "      <td>3.938741</td>\n",
       "      <td>65.122602</td>\n",
       "      <td>75.007982</td>\n",
       "      <td>16.961593</td>\n",
       "      <td>90.668625</td>\n",
       "      <td>2.729202</td>\n",
       "      <td>0.589698</td>\n",
       "      <td>1</td>\n",
       "    </tr>\n",
       "  </tbody>\n",
       "</table>\n",
       "</div>"
      ],
      "text/plain": [
       "         Peso     Laboral  hijos     BLD01      REC1       REC2       REC3  \\\n",
       "0   36.410602    Inactivo      0  3.139714  6.929112  63.712640  73.880613   \n",
       "1  115.507184    Inactivo      4  2.953914  4.660136  64.582610  73.669319   \n",
       "2   81.249035      Activo      3  1.365200  3.005861  63.613454  75.103984   \n",
       "3   77.985589  No_declara      0  2.329285  4.344642  64.433115  73.402436   \n",
       "4   13.446208    Inactivo      0 -0.062975  3.938741  65.122602  75.007982   \n",
       "\n",
       "        REC4       REC5     BLD02     BLD03  target  \n",
       "0  15.087239  90.400193  2.015331  1.633836       0  \n",
       "1  14.503106  90.817947  0.973317 -0.439358       0  \n",
       "2  14.077988  91.741638  3.243344  0.380413       1  \n",
       "3  15.583846  91.741709  3.188290 -0.226046       0  \n",
       "4  16.961593  90.668625  2.729202  0.589698       1  "
      ]
     },
     "execution_count": 12,
     "metadata": {},
     "output_type": "execute_result"
    }
   ],
   "source": [
    "df.head()"
   ]
  },
  {
   "cell_type": "code",
   "execution_count": 13,
   "metadata": {},
   "outputs": [
    {
     "data": {
      "text/plain": [
       "Peso       0\n",
       "Laboral    0\n",
       "hijos      0\n",
       "BLD01      0\n",
       "REC1       0\n",
       "REC2       0\n",
       "REC3       0\n",
       "REC4       0\n",
       "REC5       0\n",
       "BLD02      0\n",
       "BLD03      0\n",
       "target     0\n",
       "dtype: int64"
      ]
     },
     "execution_count": 13,
     "metadata": {},
     "output_type": "execute_result"
    }
   ],
   "source": [
    "df.isnull().sum()"
   ]
  },
  {
   "cell_type": "markdown",
   "metadata": {},
   "source": [
    "#### Chequeamos si esta balanceado el dataset"
   ]
  },
  {
   "cell_type": "code",
   "execution_count": 8,
   "metadata": {},
   "outputs": [
    {
     "name": "stdout",
     "output_type": "stream",
     "text": [
      "target\n",
      "0    2493\n",
      "1    1707\n",
      "Name: count, dtype: int64\n"
     ]
    },
    {
     "data": {
      "text/plain": [
       "<Axes: xlabel='target', ylabel='count'>"
      ]
     },
     "execution_count": 8,
     "metadata": {},
     "output_type": "execute_result"
    },
    {
     "data": {
      "image/png": "[encoded data removed]",
      "text/plain": [
       "<Figure size 640x480 with 1 Axes>"
      ]
     },
     "metadata": {},
     "output_type": "display_data"
    }
   ],
   "source": [
    "import seaborn as sns\n",
    "print( df.target.value_counts() )\n",
    "sns.countplot(x='target', data=df, hue='target', legend=False)"
   ]
  },
  {
   "cell_type": "markdown",
   "metadata": {},
   "source": [
    "#### Chequeamos valores anamolos y outliers"
   ]
  },
  {
   "cell_type": "code",
   "execution_count": 16,
   "metadata": {},
   "outputs": [
    {
     "data": {
      "text/plain": [
       "<Axes: ylabel='Frequency'>"
      ]
     },
     "execution_count": 16,
     "metadata": {},
     "output_type": "execute_result"
    },
    {
     "data": {
      "image/png": "[encoded data removed]",
      "text/plain": [
       "<Figure size 640x480 with 1 Axes>"
      ]
     },
     "metadata": {},
     "output_type": "display_data"
    }
   ],
   "source": [
    "df['BLD01'].plot(kind='hist')"
   ]
  },
  {
   "cell_type": "code",
   "execution_count": 17,
   "metadata": {},
   "outputs": [
    {
     "data": {
      "text/plain": [
       "<Axes: ylabel='Frequency'>"
      ]
     },
     "execution_count": 17,
     "metadata": {},
     "output_type": "execute_result"
    },
    {
     "data": {
      "image/png": "[encoded data removed]",
      "text/plain": [
       "<Figure size 640x480 with 1 Axes>"
      ]
     },
     "metadata": {},
     "output_type": "display_data"
    }
   ],
   "source": [
    "Q1 = df['BLD01'].quantile(0.25)\n",
    "Q3 = df['BLD01'].quantile(0.75)\n",
    "IQR = Q3 - Q1\n",
    "\n",
    "lower_bound = Q1 - 1.5 * IQR\n",
    "upper_bound = Q3 + 1.5 * IQR\n",
    "\n",
    "outliers = df[(df['BLD01'] < lower_bound) | (df['BLD01'] > upper_bound)]\n",
    "\n",
    "# Reemplazamos los outliers con la media\n",
    "df.loc[outliers.index, 'BLD01'] = df['BLD01'].mean()\n",
    "\n",
    "# Mostramos el dataset\n",
    "df['BLD01'].plot(kind='hist')"
   ]
  },
  {
   "cell_type": "markdown",
   "metadata": {},
   "source": [
    "## Analisis General"
   ]
  },
  {
   "cell_type": "code",
   "execution_count": null,
   "metadata": {},
   "outputs": [],
   "source": []
  },
  {
   "cell_type": "markdown",
   "metadata": {},
   "source": [
    "## Evaluacion final - Docente + Alumno"
   ]
  },
  {
   "cell_type": "code",
   "execution_count": 5,
   "metadata": {},
   "outputs": [],
   "source": [
    "\"\"\"\n",
    "import pandas as pd\n",
    "from sklearn.metrics import classification_report\n",
    "from sklearn.model_selection import train_test_split\n",
    "\n",
    "PRODUCCION = False\n",
    "best_clf = None #Asignar aqui el mejor clasificador posible (previamente entrenado)\n",
    "\n",
    "#Leemos el dataset de evaluaciÃ³n, simulando producciÃ³n\n",
    "if PRODUCCION==False:\n",
    "    df = pd.read_csv(\"./dataset.csv\")\n",
    "    _, df = train_test_split(df, test_size=0.3, random_state=42)\n",
    "else:\n",
    "    df = pd.read_csv(\"TP_Virus_Evaluacion.csv\")\n",
    "#Dividimos en target y predictoras\n",
    "\n",
    "X_prod = df.drop(\"target\", axis=1)\n",
    "y_prod = df[\"target\"]\n",
    "\n",
    "#Transformaciones\n",
    "\n",
    "\n",
    "#EvaluaciÃ³n final\n",
    "y_pred = best_clf.predict(X_prod)\n",
    "print(classification_report(y_prod, y_pred))\n",
    "\"\"\""
   ]
  }
 ],
 "metadata": {
  "kernelspec": {
   "display_name": "Python 3",
   "language": "python",
   "name": "python3"
  },
  "language_info": {
   "codemirror_mode": {
    "name": "ipython",
    "version": 3
   },
   "file_extension": ".py",
   "mimetype": "text/x-python",
   "name": "python",
   "nbconvert_exporter": "python",
   "pygments_lexer": "ipython3",
   "version": "3.12.3"
  }
 },
 "nbformat": 4,
 "nbformat_minor": 2
}
